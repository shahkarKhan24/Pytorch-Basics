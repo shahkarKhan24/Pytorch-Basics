{
 "cells": [
  {
   "cell_type": "code",
   "execution_count": 1,
   "metadata": {},
   "outputs": [],
   "source": [
    "import torch\n",
    "import numpy as np\n",
    "import torch.nn as nn\n",
    "from sklearn import datasets\n",
    "from sklearn.preprocessing import StandardScaler\n",
    "from sklearn.model_selection import train_test_split\n",
    "import matplotlib.pyplot as plt\n",
    "# 1) design model (input, output size, forward pass)\n",
    "# 2) construct loss and optimizer\n",
    "# 3) Training loop\n",
    "# -forward pass: compute prediction\n",
    "# -backward pass: gradients\n",
    "# -update weights"
   ]
  },
  {
   "cell_type": "code",
   "execution_count": 6,
   "metadata": {},
   "outputs": [
    {
     "name": "stdout",
     "output_type": "stream",
     "text": [
      "(569, 30)\n"
     ]
    }
   ],
   "source": [
    "#prepare data\n",
    "bc = datasets.load_breast_cancer()\n",
    "X,y= bc.data,bc.target\n",
    "\n",
    "n_samples, n_features=X.shape\n",
    "print(X.shape)"
   ]
  },
  {
   "cell_type": "code",
   "execution_count": 17,
   "metadata": {},
   "outputs": [],
   "source": [
    "X_train,X_test,y_train,y_test=train_test_split(X,y, test_size=0.2, random_state=1234)"
   ]
  },
  {
   "cell_type": "code",
   "execution_count": 18,
   "metadata": {},
   "outputs": [],
   "source": [
    "#scale\n",
    "sc=StandardScaler()\n",
    "X_train=sc.fit_transform(X_train)\n",
    "X_test = sc.transform(X_test)"
   ]
  },
  {
   "cell_type": "code",
   "execution_count": 19,
   "metadata": {},
   "outputs": [],
   "source": [
    "X_train = torch.from_numpy(X_train.astype(np.float32))\n",
    "X_test = torch.from_numpy(X_test.astype(np.float32))\n",
    "y_train = torch.from_numpy(y_train.astype(np.float32))\n",
    "y_test = torch.from_numpy(y_test.astype(np.float32))"
   ]
  },
  {
   "cell_type": "code",
   "execution_count": 20,
   "metadata": {},
   "outputs": [],
   "source": [
    "y_train = y_train.view(y_train.shape[0], 1)\n",
    "y_test = y_test.view(y_test.shape[0], 1)"
   ]
  },
  {
   "cell_type": "code",
   "execution_count": 21,
   "metadata": {},
   "outputs": [],
   "source": [
    "#model\n",
    "#f=wx+b, sigmoid at the end\n",
    "class logisticRegression(nn.Module):\n",
    "    def __init__(self,n_input_features):\n",
    "        super(logisticRegression,self).__init__()\n",
    "        self.linear=nn.Linear(n_input_features,1)\n",
    "\n",
    "    def forward(self,x):\n",
    "        ypred=torch.sigmoid(self.linear(x))\n",
    "        return ypred\n",
    "\n",
    "\n",
    "\n",
    "\n",
    "model= logisticRegression(n_features)\n"
   ]
  },
  {
   "cell_type": "code",
   "execution_count": 22,
   "metadata": {},
   "outputs": [],
   "source": [
    "#loss and optimizer\n",
    "learning_rate=0.01\n",
    "criterion=nn.BCELoss()\n",
    "optimizer= torch.optim.SGD(model.parameters(),lr=learning_rate)"
   ]
  },
  {
   "cell_type": "code",
   "execution_count": 23,
   "metadata": {},
   "outputs": [
    {
     "name": "stdout",
     "output_type": "stream",
     "text": [
      "epoch 10: loss = 0.608\n",
      "epoch 20: loss = 0.493\n",
      "epoch 30: loss = 0.423\n",
      "epoch 40: loss = 0.376\n",
      "epoch 50: loss = 0.341\n",
      "epoch 60: loss = 0.314\n",
      "epoch 70: loss = 0.293\n",
      "epoch 80: loss = 0.275\n",
      "epoch 90: loss = 0.261\n",
      "epoch 100: loss = 0.248\n"
     ]
    }
   ],
   "source": [
    "num_epoch =100\n",
    "for epoch in range(num_epoch):\n",
    "    #forwardpass\n",
    "    ypred=model(X_train)\n",
    "    loss=criterion(ypred,y_train)\n",
    "\n",
    "    #backwardpass\n",
    "    loss.backward()#dl/dw\n",
    "\n",
    "\n",
    "    optimizer.step()\n",
    "\n",
    "    optimizer.zero_grad()\n",
    "    if (epoch+1) % 10 ==0:\n",
    "        print(f'epoch {epoch+1}: loss = {loss.item():.3f}')\n",
    "\n",
    "\n",
    "\n"
   ]
  },
  {
   "cell_type": "code",
   "execution_count": 24,
   "metadata": {},
   "outputs": [
    {
     "name": "stdout",
     "output_type": "stream",
     "text": [
      "accuracy = 0.9123\n"
     ]
    }
   ],
   "source": [
    "with torch.no_grad():\n",
    "    ypred =model(X_test)\n",
    "    ypred_cls=ypred.round()#if value is greater than 0.5 it will be rounded to 1 other vise zero\n",
    "\n",
    "    acc=ypred_cls.eq(y_test).sum()/float(y_test.shape[0])\n",
    "    #for every ypred taht is equale to y_test sum it up\n",
    "    print(f'accuracy = {acc:.4f}')"
   ]
  },
  {
   "cell_type": "code",
   "execution_count": null,
   "metadata": {},
   "outputs": [],
   "source": []
  },
  {
   "cell_type": "code",
   "execution_count": null,
   "metadata": {},
   "outputs": [],
   "source": []
  },
  {
   "cell_type": "code",
   "execution_count": null,
   "metadata": {},
   "outputs": [],
   "source": []
  }
 ],
 "metadata": {
  "kernelspec": {
   "display_name": "Python 3",
   "language": "python",
   "name": "python3"
  },
  "language_info": {
   "codemirror_mode": {
    "name": "ipython",
    "version": 3
   },
   "file_extension": ".py",
   "mimetype": "text/x-python",
   "name": "python",
   "nbconvert_exporter": "python",
   "pygments_lexer": "ipython3",
   "version": "3.9.11"
  },
  "orig_nbformat": 4,
  "vscode": {
   "interpreter": {
    "hash": "ac42d54e7b7d87b6240c9d3fa6b6cd8d9e0fb1616b7610ad8355c590de55bf25"
   }
  }
 },
 "nbformat": 4,
 "nbformat_minor": 2
}
